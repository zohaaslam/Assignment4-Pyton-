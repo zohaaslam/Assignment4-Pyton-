{
  "nbformat": 4,
  "nbformat_minor": 0,
  "metadata": {
    "colab": {
      "provenance": [],
      "authorship_tag": "ABX9TyPedDuoradV22BPJoK7928k",
      "include_colab_link": true
    },
    "kernelspec": {
      "name": "python3",
      "display_name": "Python 3"
    },
    "language_info": {
      "name": "python"
    }
  },
  "cells": [
    {
      "cell_type": "markdown",
      "metadata": {
        "id": "view-in-github",
        "colab_type": "text"
      },
      "source": [
        "<a href=\"https://colab.research.google.com/github/zohaaslam/Assignment4-Pyton-/blob/main/online_class_projects_02_intermediate_.ipynb\" target=\"_parent\"><img src=\"https://colab.research.google.com/assets/colab-badge.svg\" alt=\"Open In Colab\"/></a>"
      ]
    },
    {
      "cell_type": "code",
      "execution_count": 8,
      "metadata": {
        "colab": {
          "base_uri": "https://localhost:8080/"
        },
        "id": "RmB0AWl71Zxl",
        "outputId": "3b43aea3-8a21-403e-c3b6-4226cabb8dd6"
      },
      "outputs": [
        {
          "output_type": "stream",
          "name": "stdout",
          "text": [
            "High Low Game\n",
            "Welcome to the High Low Game\n",
            "******************************\n",
            "Round 1\n",
            "Your number is 10\n",
            "Do you think your number is higher or lower than the computer's number? 67\n",
            "That's incorrect. The computer's number was 26\n",
            "Your score is now 0\n",
            "\n",
            "Round 2\n",
            "Your number is 61\n",
            "Do you think your number is higher or lower than the computer's number? 27\n",
            "That's incorrect. The computer's number was 52\n",
            "Your score is now 0\n",
            "\n",
            "Round 3\n",
            "Your number is 92\n",
            "Do you think your number is higher or lower than the computer's number? 67\n",
            "That's incorrect. The computer's number was 53\n",
            "Your score is now 0\n",
            "\n",
            "Round 4\n",
            "Your number is 71\n",
            "Do you think your number is higher or lower than the computer's number? 33\n",
            "That's incorrect. The computer's number was 10\n",
            "Your score is now 0\n",
            "\n",
            "Round 5\n",
            "Your number is 64\n",
            "Do you think your number is higher or lower than the computer's number? 45\n",
            "That's incorrect. The computer's number was 25\n",
            "Your score is now 0\n",
            "\n",
            "Thanks for playing!\n",
            "Final score: 0\n"
          ]
        }
      ],
      "source": [
        "import random\n",
        "print(\"High Low Game\")\n",
        "\n",
        "total_rounds = 5  # Avoid using 'round' as variable name\n",
        "\n",
        "def main():\n",
        "    print(\"Welcome to the High Low Game\")\n",
        "    print(\"******************************\")\n",
        "\n",
        "    your_score = 0\n",
        "\n",
        "    for i in range(total_rounds):\n",
        "        print(\"Round\", i + 1)\n",
        "\n",
        "        computer_number: int = random.randint(1, 100)\n",
        "        your_number: int = random.randint(1, 100)\n",
        "\n",
        "        print(\"Your number is\", your_number)\n",
        "\n",
        "        choice: str = input(\"Do you think your number is higher or lower than the computer's number? \").lower().strip()\n",
        "\n",
        "        higher_and_correct: bool = choice == \"higher\" and your_number > computer_number\n",
        "        lower_and_correct: bool = choice == \"lower\" and your_number < computer_number  # Fixed logic here\n",
        "\n",
        "        if higher_and_correct or lower_and_correct:\n",
        "            print(\"You were right! The computer's number was\", computer_number)\n",
        "            your_score += 1\n",
        "        else:\n",
        "            print(\"That's incorrect. The computer's number was\", computer_number)\n",
        "\n",
        "        print(\"Your score is now\", your_score)\n",
        "        print()\n",
        "\n",
        "    print(\"Thanks for playing!\")\n",
        "    print(\"Final score:\", your_score)\n",
        "\n",
        "if __name__ == \"__main__\":\n",
        "    main()\n"
      ]
    },
    {
      "cell_type": "code",
      "source": [
        "print(\"Planetary Weight Calculator\")\n",
        "\n",
        "def main():\n",
        "    print(\"Welcome to the Planetary Weight Calculator \")\n",
        "    print(\"******************************\")\n",
        "\n",
        "    earth_weight = float(input(\"Enter your weight on Earth: \"))\n",
        "\n",
        "    gravity_ratios = {\n",
        "        \"Mercury\": 0.38,\n",
        "        \"Venus\": 0.91,\n",
        "        \"Mars\": 0.38,\n",
        "        \"Jupiter\": 2.34,\n",
        "        \"Saturn\": 1.06,\n",
        "        \"Uranus\": 0.92,\n",
        "        \"Neptune\": 1.19\n",
        "    }\n",
        "\n",
        "    print(\"\\nSelect a planet:\")\n",
        "    for planet in gravity_ratios:\n",
        "        print(f' - {planet}')\n",
        "\n",
        "    planet_choice = input(\"Enter the name of the planet: \").title()\n",
        "\n",
        "    if planet_choice in gravity_ratios:\n",
        "        new_weight = earth_weight * gravity_ratios[planet_choice]  # ✅ Fixed here\n",
        "        print(f'Your weight on {planet_choice} is {new_weight:.2f} kg')\n",
        "    else:\n",
        "        print(\"Invalid planet choice!\")\n",
        "\n",
        "if __name__ == \"__main__\":\n",
        "    main()\n"
      ],
      "metadata": {
        "colab": {
          "base_uri": "https://localhost:8080/"
        },
        "id": "0tatTeYKF9Io",
        "outputId": "5c46cd24-f828-4cd6-b88e-bad3b2ceefbb"
      },
      "execution_count": 9,
      "outputs": [
        {
          "output_type": "stream",
          "name": "stdout",
          "text": [
            "Planetary Weight Calculator\n",
            "Welcome to the Planetary Weight Calculator \n",
            "******************************\n",
            "Enter your weight on Earth: 40\n",
            "\n",
            "Select a planet:\n",
            " - Mercury\n",
            " - Venus\n",
            " - Mars\n",
            " - Jupiter\n",
            " - Saturn\n",
            " - Uranus\n",
            " - Neptune\n",
            "Enter the name of the planet: saturn\n",
            "Your weight on Saturn is 42.40 kg\n"
          ]
        }
      ]
    },
    {
      "cell_type": "code",
      "source": [
        "print(\"Lists and Dicts\")\n",
        "\n",
        "my_list = [\"apple\", \"mango\", \"orange\", \"pear\", \"peach\"]\n",
        "\n",
        "def access_element(my_list, index):\n",
        "    if 0 <= index < len(my_list):\n",
        "        return f'Element at index {index}: {my_list[index]}'\n",
        "    return \"Index out of range\"\n",
        "\n",
        "def modify_element(my_list, index, new_value):\n",
        "    if 0 <= index < len(my_list):\n",
        "        old_value = my_list[index]\n",
        "        my_list[index] = new_value\n",
        "        return f'Element at index {index} modified from {old_value} to {new_value}'\n",
        "    return \"Index out of range\"\n",
        "\n",
        "def slice_list(my_list, start, end):\n",
        "    if 0 <= start < len(my_list) and 0 <= end <= len(my_list):\n",
        "        return f'Sliced list: {my_list[start:end]}'\n",
        "    return \"Invalid slice indices!\"\n",
        "\n",
        "def main():\n",
        "    print(\"\\nWelcome to the list manipulation game.\\n\")\n",
        "    print(\"Current list:\", my_list)\n",
        "    print(\"Select an operation:\")\n",
        "    print(\"1. Access Element\")\n",
        "    print(\"2. Modify Element\")\n",
        "    print(\"3. Slice List\")\n",
        "    print(\"4. Quit\")\n",
        "\n",
        "    # Colab me input() call karo sirf 1 baar, phir logic run karo\n",
        "    choice = input(\"Enter your choice (1-3): \")\n",
        "\n",
        "    if choice == \"1\":\n",
        "        index = int(input(\"Enter the index you want to access: \"))\n",
        "        print(access_element(my_list, index))\n",
        "\n",
        "    elif choice == \"2\":\n",
        "        index = int(input(\"Enter the index you want to modify: \"))\n",
        "        new_value = input(\"Enter new value: \")\n",
        "        print(modify_element(my_list, index, new_value))\n",
        "\n",
        "    elif choice == \"3\":\n",
        "        start = int(input(\"Enter the start index: \"))\n",
        "        end = int(input(\"Enter the end index: \"))\n",
        "        print(slice_list(my_list, start, end))\n",
        "    elif choice == \"4\":\n",
        "      print(\"Existing!\")\n",
        "\n",
        "    else:\n",
        "        print(\"Invalid choice!\")\n",
        "\n",
        "if __name__ == \"__main__\":\n",
        "    main()\n"
      ],
      "metadata": {
        "colab": {
          "base_uri": "https://localhost:8080/"
        },
        "id": "fJDTMK5OGsh8",
        "outputId": "3dbcfed5-cd53-4b8d-e46d-231788e4d28b"
      },
      "execution_count": 11,
      "outputs": [
        {
          "output_type": "stream",
          "name": "stdout",
          "text": [
            "Lists and Dicts\n",
            "\n",
            "Welcome to the list manipulation game.\n",
            "\n",
            "Current list: ['apple', 'mango', 'orange', 'pear', 'peach']\n",
            "Select an operation:\n",
            "1. Access Element\n",
            "2. Modify Element\n",
            "3. Slice List\n",
            "4. Quit\n",
            "Enter your choice (1-3): 4\n",
            "Existing!\n"
          ]
        }
      ]
    },
    {
      "cell_type": "code",
      "source": [],
      "metadata": {
        "id": "Z6GGiCzwGWEL"
      },
      "execution_count": null,
      "outputs": []
    },
    {
      "cell_type": "code",
      "source": [],
      "metadata": {
        "id": "XOhPECiNGn9W"
      },
      "execution_count": null,
      "outputs": []
    },
    {
      "cell_type": "code",
      "source": [],
      "metadata": {
        "id": "g1MEi8WxGnQB"
      },
      "execution_count": null,
      "outputs": []
    },
    {
      "cell_type": "code",
      "source": [],
      "metadata": {
        "id": "qOHnWtjzFuMu"
      },
      "execution_count": null,
      "outputs": []
    },
    {
      "cell_type": "code",
      "source": [],
      "metadata": {
        "id": "kcExu5RaAJR4"
      },
      "execution_count": null,
      "outputs": []
    }
  ]
}