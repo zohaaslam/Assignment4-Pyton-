{
  "nbformat": 4,
  "nbformat_minor": 0,
  "metadata": {
    "colab": {
      "provenance": [],
      "authorship_tag": "ABX9TyO+W7GP1l587dUSIQhWNOPV",
      "include_colab_link": true
    },
    "kernelspec": {
      "name": "python3",
      "display_name": "Python 3"
    },
    "language_info": {
      "name": "python"
    }
  },
  "cells": [
    {
      "cell_type": "markdown",
      "metadata": {
        "id": "view-in-github",
        "colab_type": "text"
      },
      "source": [
        "<a href=\"https://colab.research.google.com/github/zohaaslam/Assignment4-Pyton-/blob/main/05_loops_control_flow.ipynb\" target=\"_parent\"><img src=\"https://colab.research.google.com/assets/colab-badge.svg\" alt=\"Open In Colab\"/></a>"
      ]
    },
    {
      "cell_type": "code",
      "execution_count": 5,
      "metadata": {
        "colab": {
          "base_uri": "https://localhost:8080/"
        },
        "id": "G7k8SQeH9NL0",
        "outputId": "d2ac4285-8e3d-4ecd-9f29-ab7876a439ee"
      },
      "outputs": [
        {
          "output_type": "stream",
          "name": "stdout",
          "text": [
            "00_guess_my_number\n",
            "I am thinking of a number between 1 and 100....\n",
            "Enter a guess: 3\n",
            "Your guess is too low.\n",
            "Enter a guess: 7\n",
            "Your guess is too low.\n",
            "Enter a guess: 82\n",
            "Your guess is too high.\n",
            "Enter a guess: 12\n",
            "Your guess is too low.\n",
            "Enter a guess: 20\n",
            "Your guess is too low.\n",
            "Enter a guess: 25\n",
            "Your guess is too low.\n",
            "Enter a guess: 30\n",
            "Your guess is too low.\n",
            "Enter a guess: 35\n",
            "Your guess is too low.\n",
            "Enter a guess: 45\n",
            "Your guess is too high.\n",
            "Enter a guess: 40\n",
            "Your guess is too low.\n",
            "Enter a guess: 42\n",
            "Your guess is too low.\n",
            "Enter a guess: 43\n",
            "Congrats! The number was 43\n"
          ]
        }
      ],
      "source": [
        "print(\"00_guess_my_number\")\n",
        "\n",
        "import random\n",
        "\n",
        "def main():\n",
        "    secret_number = random.randint(1, 100)\n",
        "    print(\"I am thinking of a number between 1 and 100....\")\n",
        "\n",
        "    guess = int(input(\"Enter a guess: \"))\n",
        "\n",
        "    while guess != secret_number:\n",
        "        if guess < secret_number:\n",
        "            print(\"Your guess is too low.\")\n",
        "        else:\n",
        "            print(\"Your guess is too high.\")\n",
        "        guess = int(input(\"Enter a guess: \"))  # Ask again inside the loop\n",
        "\n",
        "    print(f'Congrats! The number was {secret_number}')\n",
        "\n",
        "if __name__ == \"__main__\":\n",
        "    main()\n",
        "\n"
      ]
    },
    {
      "cell_type": "code",
      "source": [
        "print(\"01_fibonacci\")\n",
        "\n",
        "max_value = 10000\n",
        "\n",
        "def main():\n",
        "  a,b = 0,1\n",
        "  print(a,b, end = \" \")\n",
        "\n",
        "\n",
        "  while True:\n",
        "    c = a+b\n",
        "    if c >= max_value:\n",
        "      break\n",
        "    print(c, end= \" \")\n",
        "    a,b = b,c\n",
        "\n",
        "\n",
        "if __name__ == \"__main__\":\n",
        "  main()\n",
        "\n"
      ],
      "metadata": {
        "colab": {
          "base_uri": "https://localhost:8080/"
        },
        "id": "nelYOmuYBBxA",
        "outputId": "d32bcacb-407f-4188-ae54-ccedc9217615"
      },
      "execution_count": 6,
      "outputs": [
        {
          "output_type": "stream",
          "name": "stdout",
          "text": [
            "01_fibonacci\n",
            "0 1 1 2 3 5 8 13 21 34 55 89 144 233 377 610 987 1597 2584 4181 6765 "
          ]
        }
      ]
    },
    {
      "cell_type": "code",
      "source": [
        "print(\"02_print_events.\")\n",
        "\n",
        "def main():\n",
        "  for i in range(20):\n",
        "    print(1*2)\n",
        "\n",
        "if __name__ == \"__main__\":\n",
        "  main()\n",
        "\n"
      ],
      "metadata": {
        "colab": {
          "base_uri": "https://localhost:8080/"
        },
        "id": "u2_YLmuqCAmN",
        "outputId": "84cdac78-f02a-4dd9-918b-4d1a4756c854"
      },
      "execution_count": 9,
      "outputs": [
        {
          "output_type": "stream",
          "name": "stdout",
          "text": [
            "02_print_events.\n",
            "2\n",
            "2\n",
            "2\n",
            "2\n",
            "2\n",
            "2\n",
            "2\n",
            "2\n",
            "2\n",
            "2\n",
            "2\n",
            "2\n",
            "2\n",
            "2\n",
            "2\n",
            "2\n",
            "2\n",
            "2\n",
            "2\n",
            "2\n"
          ]
        }
      ]
    },
    {
      "cell_type": "code",
      "source": [
        "print(\"03_wholesome_machine\")\n",
        "\n",
        "correct_affermation = \"I am capable of doing anything. I put my mind too.\"\n",
        "\n",
        "def main():\n",
        "  print(\"Welcome to the Wholesome Machine.\")\n",
        "  while True:\n",
        "    user_input = input(\"Please type the following affermation\" + correct_affermation)\n",
        "    if user_input == correct_affermation:\n",
        "      print(\"That\\'s right!\")\n",
        "      break\n",
        "    else:\n",
        "      print(\"Hmm That was not the affermation. Please try Again.\")\n",
        "\n",
        "if __name__ == \"__main__\":\n",
        "  main()\n",
        "\n"
      ],
      "metadata": {
        "colab": {
          "base_uri": "https://localhost:8080/"
        },
        "id": "k91m60qSFZdw",
        "outputId": "ff35ce3b-1484-4be2-982b-441f58a6d74e"
      },
      "execution_count": 11,
      "outputs": [
        {
          "output_type": "stream",
          "name": "stdout",
          "text": [
            "03_wholesome_machine\n",
            "Welcome to the Wholesome Machine.\n",
            "Please type the following affermationI am capable of doing anything. I put my mind too.I am capable of doing anything. I put my mind too.\n",
            "That's right!\n"
          ]
        }
      ]
    },
    {
      "cell_type": "code",
      "source": [
        "print(\"04_liftoff\")\n",
        "\n",
        "def main():\n",
        "  for i in range(10,0,-1):\n",
        "    print(i,end = \" \")\n",
        "  print(\"liftoff\")\n",
        "\n",
        "if __name__ == \"__main__\":\n",
        "  main()"
      ],
      "metadata": {
        "colab": {
          "base_uri": "https://localhost:8080/"
        },
        "id": "lgRfwaWBHimW",
        "outputId": "5203604e-f0f5-4cdf-e320-a661efe4557b"
      },
      "execution_count": 12,
      "outputs": [
        {
          "output_type": "stream",
          "name": "stdout",
          "text": [
            "04_liftoff\n",
            "10 9 8 7 6 5 4 3 2 1 liftoff\n"
          ]
        }
      ]
    },
    {
      "cell_type": "code",
      "source": [
        "print(\"05_double_it\")\n",
        "\n",
        "def main():\n",
        "    user_value = int(input(\"Enter a number less than 100: \"))\n",
        "\n",
        "    if user_value >= 100:\n",
        "        print(\"The number is already 100 or more, no need to double it.\")\n",
        "    else:\n",
        "        while user_value < 100:\n",
        "            user_value = user_value * 2\n",
        "            print(user_value)\n",
        "\n",
        "if __name__ == \"__main__\":\n",
        "    main()\n",
        ""
      ],
      "metadata": {
        "colab": {
          "base_uri": "https://localhost:8080/"
        },
        "id": "KEFJ7R6KIIBL",
        "outputId": "a2a11c33-11e1-48b1-97b1-c4934f3034cc"
      },
      "execution_count": 14,
      "outputs": [
        {
          "output_type": "stream",
          "name": "stdout",
          "text": [
            "05_double_it\n",
            "Enter a number less than 100: 10\n",
            "20\n",
            "40\n",
            "80\n",
            "160\n"
          ]
        }
      ]
    }
  ]
}