{
  "nbformat": 4,
  "nbformat_minor": 0,
  "metadata": {
    "colab": {
      "provenance": [],
      "authorship_tag": "ABX9TyM8IJv+vpDSpdB7zdtO68xF",
      "include_colab_link": true
    },
    "kernelspec": {
      "name": "python3",
      "display_name": "Python 3"
    },
    "language_info": {
      "name": "python"
    }
  },
  "cells": [
    {
      "cell_type": "markdown",
      "metadata": {
        "id": "view-in-github",
        "colab_type": "text"
      },
      "source": [
        "<a href=\"https://colab.research.google.com/github/zohaaslam/Assignment4-Pyton-/blob/main/online_class_projects_01_basic.ipynb\" target=\"_parent\"><img src=\"https://colab.research.google.com/assets/colab-badge.svg\" alt=\"Open In Colab\"/></a>"
      ]
    },
    {
      "cell_type": "code",
      "execution_count": null,
      "metadata": {
        "colab": {
          "base_uri": "https://localhost:8080/"
        },
        "id": "ttem-NHBbHHm",
        "outputId": "b5d780ee-fe56-4b89-c8f4-f1d8eab2f9cf"
      },
      "outputs": [
        {
          "output_type": "stream",
          "name": "stdout",
          "text": [
            "00_joke_bot.\n",
            "What do you mean? story\n",
            "Sorry, I only tell jokes.\n"
          ]
        }
      ],
      "source": [
        "print(\"00_joke_bot.\")\n",
        "\n",
        "PROMPT: str = \"What do you mean? \"\n",
        "JOKE: str = \"Why don't skeletons fight each other? \\nBecause they don't have the guts! 😄💀\"\n",
        "SORRY: str = \"Sorry, I only tell jokes.\"\n",
        "\n",
        "def main():\n",
        "    user_input = input(PROMPT)\n",
        "    user_input = user_input.strip().lower()\n",
        "\n",
        "    if \"joke\" in user_input:\n",
        "        print(JOKE)\n",
        "    else:\n",
        "        print(SORRY)\n",
        "\n",
        "if __name__ == \"__main__\":\n",
        "    main()\n"
      ]
    },
    {
      "cell_type": "code",
      "source": [
        "print(\"01_double_it\")\n",
        "\n",
        "def main():\n",
        "    user_value = int(input(\"Enter a number less than 100: \"))\n",
        "\n",
        "    if user_value >= 100:\n",
        "        print(\"The number is already 100 or more, no need to double it.\")\n",
        "    else:\n",
        "        while user_value < 100:\n",
        "            user_value = user_value * 2\n",
        "            print(user_value)\n",
        "\n",
        "if __name__ == \"__main__\":\n",
        "    main()"
      ],
      "metadata": {
        "id": "_hEZk2xldey8"
      },
      "execution_count": null,
      "outputs": []
    },
    {
      "cell_type": "code",
      "source": [
        "print(\"02_liftoff\")\n",
        "\n",
        "def main():\n",
        "  for i in range(10,0,-1):\n",
        "    print(i,end = \" \")\n",
        "  print(\"liftoff\")\n",
        "\n",
        "if __name__ == \"__main__\":\n",
        "  main()\n"
      ],
      "metadata": {
        "colab": {
          "base_uri": "https://localhost:8080/"
        },
        "id": "Imc8Oievdn3i",
        "outputId": "860f5f78-48d3-4773-bbc2-e2a9fb06f0bf"
      },
      "execution_count": null,
      "outputs": [
        {
          "output_type": "stream",
          "name": "stdout",
          "text": [
            "02_liftoff\n",
            "10 9 8 7 6 5 4 3 2 1 liftoff\n"
          ]
        }
      ]
    },
    {
      "cell_type": "code",
      "source": [],
      "metadata": {
        "id": "xyyH7D0Dfk_1"
      },
      "execution_count": null,
      "outputs": []
    },
    {
      "cell_type": "code",
      "source": [
        "print(\"03_guess_my_number\")\n",
        "\n",
        "import random\n",
        "\n",
        "def main():\n",
        "    secret_number = random.randint(1, 100)\n",
        "    print(\"I am thinking of a number between 1 and 100....\")\n",
        "\n",
        "    guess = int(input(\"Enter a guess: \"))\n",
        "\n",
        "    while guess != secret_number:\n",
        "        if guess < secret_number:\n",
        "            print(\"Your guess is too low.\")\n",
        "        else:\n",
        "            print(\"Your guess is too high.\")\n",
        "        guess = int(input(\"Enter a guess: \"))  # Ask again inside the loop\n",
        "\n",
        "    print(f'Congrats! The number was {secret_number}')\n",
        "\n",
        "if __name__ == \"__main__\":\n",
        "    main()\n"
      ],
      "metadata": {
        "colab": {
          "base_uri": "https://localhost:8080/"
        },
        "id": "WPWU4Yr5dxqs",
        "outputId": "788bee0e-ad99-4c58-c83b-cc9b8808393d"
      },
      "execution_count": null,
      "outputs": [
        {
          "output_type": "stream",
          "name": "stdout",
          "text": [
            "03_guess_my_number\n",
            "I am thinking of a number between 1 and 100....\n",
            "Enter a guess: 6\n",
            "Your guess is too low.\n",
            "Enter a guess: 8\n",
            "Your guess is too low.\n",
            "Enter a guess: 44\n",
            "Your guess is too low.\n",
            "Enter a guess: 50\n",
            "Your guess is too low.\n",
            "Enter a guess: 55\n",
            "Your guess is too low.\n",
            "Enter a guess: 60\n",
            "Your guess is too high.\n",
            "Enter a guess: 58\n",
            "Congrats! The number was 58\n"
          ]
        }
      ]
    },
    {
      "cell_type": "code",
      "source": [
        "import random\n",
        "\n",
        "print(\"04_random_numbers\")\n",
        "\n",
        "def main():\n",
        "  for _ in range(10):\n",
        "    print(random.randint(1,100),end = \" \")\n",
        "\n",
        "\n",
        "if __name__ == \"__main__\":\n",
        "  main()"
      ],
      "metadata": {
        "id": "qhajZ9lifmNs",
        "colab": {
          "base_uri": "https://localhost:8080/"
        },
        "outputId": "6a6c9c9d-a6cb-4f4a-bbb8-d851eab039e0"
      },
      "execution_count": 11,
      "outputs": [
        {
          "output_type": "stream",
          "name": "stdout",
          "text": [
            "04_random_numbers\n",
            "39 61 65 79 93 34 18 34 92 64 "
          ]
        }
      ]
    }
  ]
}