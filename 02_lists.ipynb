{
  "nbformat": 4,
  "nbformat_minor": 0,
  "metadata": {
    "colab": {
      "provenance": [],
      "authorship_tag": "ABX9TyPEEWU0NKvbuUAG8fqioh+h",
      "include_colab_link": true
    },
    "kernelspec": {
      "name": "python3",
      "display_name": "Python 3"
    },
    "language_info": {
      "name": "python"
    }
  },
  "cells": [
    {
      "cell_type": "markdown",
      "metadata": {
        "id": "view-in-github",
        "colab_type": "text"
      },
      "source": [
        "<a href=\"https://colab.research.google.com/github/zohaaslam/Assignment4-Pyton-/blob/main/02_lists.ipynb\" target=\"_parent\"><img src=\"https://colab.research.google.com/assets/colab-badge.svg\" alt=\"Open In Colab\"/></a>"
      ]
    },
    {
      "cell_type": "markdown",
      "source": [
        "# **02_lists**"
      ],
      "metadata": {
        "id": "7Ulomo3L9vaG"
      }
    },
    {
      "cell_type": "code",
      "execution_count": null,
      "metadata": {
        "colab": {
          "base_uri": "https://localhost:8080/"
        },
        "id": "2fnbhLm39qZ5",
        "outputId": "7c8a5d01-5317-45a7-d05e-0de99833bb07"
      },
      "outputs": [
        {
          "output_type": "stream",
          "name": "stdout",
          "text": [
            "01_add_many_number\n",
            "15\n"
          ]
        }
      ],
      "source": [
        "print(\"01_add_many_number\")\n",
        "\n",
        "def add_number(numbers)->int:\n",
        "  num:int = 0\n",
        "  for i in numbers:\n",
        "    num += i\n",
        "  return num\n",
        "\n",
        "def main():\n",
        "  numbers:list[int] = [1,2,3,4,5]\n",
        "  sum = add_number(numbers)\n",
        "  print(sum)\n",
        "\n",
        "if __name__ == \"__main__\":\n",
        "  main()\n"
      ]
    },
    {
      "cell_type": "code",
      "source": [
        "print(\"02_double_list\")\n",
        "\n",
        "def main():\n",
        "  numbers:list[int] = [1,2,3,4,5]\n",
        "  for i in range(len(numbers)):\n",
        "    index = numbers[i]\n",
        "    numbers[i] = index * 2\n",
        "    print(numbers)\n",
        "\n",
        "if __name__ == \"__main__\":\n",
        "  main()\n",
        "\n"
      ],
      "metadata": {
        "colab": {
          "base_uri": "https://localhost:8080/"
        },
        "id": "YlLFroz_--Uc",
        "outputId": "46a3bb67-7905-44f6-9cf4-cbe51f298adb"
      },
      "execution_count": null,
      "outputs": [
        {
          "output_type": "stream",
          "name": "stdout",
          "text": [
            "02_double_list\n",
            "[2, 2, 3, 4, 5]\n",
            "[2, 4, 3, 4, 5]\n",
            "[2, 4, 6, 4, 5]\n",
            "[2, 4, 6, 8, 5]\n",
            "[2, 4, 6, 8, 10]\n"
          ]
        }
      ]
    },
    {
      "cell_type": "code",
      "source": [
        "print(\"04_flowing_with_data_structures\")\n",
        "\n",
        "def add_three_copies(lst,data):\n",
        "  for i in range(3):\n",
        "    lst.append(data)\n",
        "\n",
        "\n",
        "def main():\n",
        "  message = input(\"Enter a message to copy.\")\n",
        "  lst = []\n",
        "  print(\"Before list:\", lst)\n",
        "  add_three_copies(lst,message)\n",
        "  print(\"After lst:\", lst)\n",
        "\n",
        "if __name__ == \"__main__\":\n",
        "  main()\n"
      ],
      "metadata": {
        "colab": {
          "base_uri": "https://localhost:8080/"
        },
        "id": "nZBtxw9J_0RW",
        "outputId": "e24190e8-39aa-4fce-9d47-b1d809075502"
      },
      "execution_count": null,
      "outputs": [
        {
          "output_type": "stream",
          "name": "stdout",
          "text": [
            "04_flowing_with_data_structures\n",
            "Enter a message to copy.hi zoha\n",
            "Before list: []\n",
            "After lst: ['hi zoha', 'hi zoha', 'hi zoha']\n"
          ]
        }
      ]
    },
    {
      "cell_type": "code",
      "source": [
        "print(\"05_get_first_element.\")\n",
        "\n",
        "def get_first_element(lst):\n",
        "  print(lst[0])\n",
        "\n",
        "def get_lst():\n",
        "  lst = []\n",
        "  elem:str = input(\"Enter an element to add to the list.\")\n",
        "  while elem != \"\":\n",
        "    lst.append(elem)\n",
        "    elem = input(\"Enter an element to add to the list.\")\n",
        "  return lst\n",
        "\n",
        "\n",
        "def main():\n",
        "  lst = get_lst()\n",
        "  get_first_element\n",
        "\n",
        "if __name__ == \"__main__\":\n",
        "  main()\n",
        "\n",
        "\n"
      ],
      "metadata": {
        "colab": {
          "base_uri": "https://localhost:8080/"
        },
        "id": "WiyEA-YGA17O",
        "outputId": "bd4bd7b2-6eca-4106-ed72-f6b4214a29d6"
      },
      "execution_count": null,
      "outputs": [
        {
          "name": "stdout",
          "output_type": "stream",
          "text": [
            "05_get_first_element.\n",
            "Enter an element to add to the list.a\n",
            "Enter an element to add to the list.s\n",
            "Enter an element to add to the list.d\n",
            "Enter an element to add to the list.r\n",
            "Enter an element to add to the list.w\n",
            "Enter an element to add to the list.e\n",
            "Enter an element to add to the list.e\n",
            "Enter an element to add to the list.w\n",
            "Enter an element to add to the list.q\n",
            "Enter an element to add to the list.\n"
          ]
        }
      ]
    },
    {
      "cell_type": "code",
      "source": [
        "print(\"06_get_last_element\")\n",
        "\n",
        "def get_lst_element(lst):\n",
        "  print(lst[-1])\n",
        "\n",
        "\n",
        "def get_lst():\n",
        "  lst = []\n",
        "  elem:str = input(\"Enter an element to add to the list.\")\n",
        "  while elem != \"\":\n",
        "    lst.append(elem)\n",
        "    elem = input(\"Enter an element to add to the list.\")\n",
        "    return lst\n",
        "\n",
        "def main():\n",
        "  lst = get_lst()\n",
        "  get_lst_element\n",
        "\n",
        "\n",
        "if __name__ == \"__main__\":\n",
        "  main()"
      ],
      "metadata": {
        "colab": {
          "base_uri": "https://localhost:8080/"
        },
        "id": "nTT8j59sCH6m",
        "outputId": "69d463fd-f395-4e2d-cd4b-4b33ae01ade5"
      },
      "execution_count": null,
      "outputs": [
        {
          "name": "stdout",
          "output_type": "stream",
          "text": [
            "06_get_last_element\n",
            "Enter an element to add to the list.w\n",
            "Enter an element to add to the list.\n"
          ]
        }
      ]
    },
    {
      "cell_type": "code",
      "source": [
        "print(\"07_get_list.\")\n",
        "\n",
        "def main():\n",
        "  lst = []\n",
        "  val = input(\"Enter a value to add to the list.\")\n",
        "  while val:\n",
        "    lst.append(val)\n",
        "    val = input(\"Enter a value to add to the list.\")\n",
        "    print(\"Here's the list: \",lst)\n",
        "\n",
        "if __name__ == \"__main__\":\n",
        "  main()\n",
        "\n"
      ],
      "metadata": {
        "colab": {
          "base_uri": "https://localhost:8080/"
        },
        "id": "qu6PdNB_DL56",
        "outputId": "5c491cc1-6ee6-47e8-db64-e456225b5c2b"
      },
      "execution_count": null,
      "outputs": [
        {
          "output_type": "stream",
          "name": "stdout",
          "text": [
            "07_get_list.\n",
            "Enter a value to add to the list.ali\n",
            "Enter a value to add to the list.zoha\n",
            "Here's the list:  ['ali']\n",
            "Enter a value to add to the list.usra\n",
            "Here's the list:  ['ali', 'zoha']\n",
            "Enter a value to add to the list.\n",
            "Here's the list:  ['ali', 'zoha', 'usra']\n"
          ]
        }
      ]
    },
    {
      "cell_type": "code",
      "source": [
        "print(\"08_shorten\")\n",
        "\n",
        "MAX_LENGTH:int = 3\n",
        "def shorten(lst):\n",
        "  while len(lst)  >= MAX_LENGTH:\n",
        "    last_element = lst.pop()\n",
        "    print(last_element)\n",
        "\n",
        "def get_lst():\n",
        "  lst = []\n",
        "  element = input(\"Enter an element to add to the list:\")\n",
        "  while element != \"\":\n",
        "    lst.append(element)\n",
        "    element = input(\"Enteran element to add to the list:\")\n",
        "  return lst\n",
        "\n",
        "\n",
        "def main():\n",
        "  lst = get_lst()\n",
        "  shorten(lst)\n",
        "\n",
        "\n",
        "if __name__ == \"__main__\":\n",
        "  main()\n",
        "\n",
        "\n",
        "\n",
        "\n",
        "\n"
      ],
      "metadata": {
        "colab": {
          "base_uri": "https://localhost:8080/"
        },
        "id": "UmoQJOSTEE4S",
        "outputId": "5ac016bf-8eca-406d-dff4-77afd190655b"
      },
      "execution_count": 2,
      "outputs": [
        {
          "output_type": "stream",
          "name": "stdout",
          "text": [
            "08_shorten\n",
            "Enter an element to add to the list:wow\n",
            "Enteran element to add to the list:ww\n",
            "Enteran element to add to the list:w\n",
            "Enteran element to add to the list:w\n",
            "Enteran element to add to the list:\n",
            "w\n",
            "w\n"
          ]
        }
      ]
    },
    {
      "cell_type": "code",
      "source": [],
      "metadata": {
        "id": "2UuQi8qe9_1Z"
      },
      "execution_count": null,
      "outputs": []
    }
  ]
}