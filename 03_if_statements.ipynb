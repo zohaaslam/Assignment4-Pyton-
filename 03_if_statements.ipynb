{
  "nbformat": 4,
  "nbformat_minor": 0,
  "metadata": {
    "colab": {
      "provenance": [],
      "authorship_tag": "ABX9TyN0cLN4vmZsqsI0RZfUHtH5",
      "include_colab_link": true
    },
    "kernelspec": {
      "name": "python3",
      "display_name": "Python 3"
    },
    "language_info": {
      "name": "python"
    }
  },
  "cells": [
    {
      "cell_type": "markdown",
      "metadata": {
        "id": "view-in-github",
        "colab_type": "text"
      },
      "source": [
        "<a href=\"https://colab.research.google.com/github/zohaaslam/Assignment4-Pyton-/blob/main/03_if_statements.ipynb\" target=\"_parent\"><img src=\"https://colab.research.google.com/assets/colab-badge.svg\" alt=\"Open In Colab\"/></a>"
      ]
    },
    {
      "cell_type": "code",
      "execution_count": 2,
      "metadata": {
        "colab": {
          "base_uri": "https://localhost:8080/"
        },
        "id": "w4wlxe8kxN_4",
        "outputId": "79019db6-a1a5-43fc-a9c0-a8ef1f993d5a"
      },
      "outputs": [
        {
          "output_type": "stream",
          "name": "stdout",
          "text": [
            "01_print_events\n",
            "Here is 20 even numbers are: 0\n",
            "Here is 20 even numbers are: 2\n",
            "Here is 20 even numbers are: 4\n",
            "Here is 20 even numbers are: 6\n",
            "Here is 20 even numbers are: 8\n",
            "Here is 20 even numbers are: 10\n",
            "Here is 20 even numbers are: 12\n",
            "Here is 20 even numbers are: 14\n",
            "Here is 20 even numbers are: 16\n",
            "Here is 20 even numbers are: 18\n",
            "Here is 20 even numbers are: 20\n",
            "Here is 20 even numbers are: 22\n",
            "Here is 20 even numbers are: 24\n",
            "Here is 20 even numbers are: 26\n",
            "Here is 20 even numbers are: 28\n",
            "Here is 20 even numbers are: 30\n",
            "Here is 20 even numbers are: 32\n",
            "Here is 20 even numbers are: 34\n",
            "Here is 20 even numbers are: 36\n",
            "Here is 20 even numbers are: 38\n",
            "Here is 20 even numbers are: 40\n",
            "Here is 20 even numbers are: 42\n",
            "Here is 20 even numbers are: 44\n",
            "Here is 20 even numbers are: 46\n",
            "Here is 20 even numbers are: 48\n",
            "Here is 20 even numbers are: 50\n",
            "Here is 20 even numbers are: 52\n",
            "Here is 20 even numbers are: 54\n",
            "Here is 20 even numbers are: 56\n",
            "Here is 20 even numbers are: 58\n",
            "Here is 20 even numbers are: 60\n",
            "Here is 20 even numbers are: 62\n",
            "Here is 20 even numbers are: 64\n",
            "Here is 20 even numbers are: 66\n",
            "Here is 20 even numbers are: 68\n",
            "Here is 20 even numbers are: 70\n",
            "Here is 20 even numbers are: 72\n",
            "Here is 20 even numbers are: 74\n",
            "Here is 20 even numbers are: 76\n",
            "Here is 20 even numbers are: 78\n"
          ]
        }
      ],
      "source": [
        "print(\"01_print_events\")\n",
        "\n",
        "def even():\n",
        "  for i in range(40):\n",
        "    print(\"Here is 20 even numbers are:\", i * 2)\n",
        "\n",
        "if __name__ == \"__main__\":\n",
        "  even()"
      ]
    },
    {
      "cell_type": "code",
      "source": [
        "print(\"02_international_voting_age\")\n",
        "\n",
        "Peturksbouipo:int = 16\n",
        "Stanlau:int = 25\n",
        "Mayengua:int = 48\n",
        "\n",
        "\n",
        "def main():\n",
        "  age:int = int(input(\"How old are you?\"))\n",
        "\n",
        "  if age >= Peturksbouipo:\n",
        "    print(f\"Your age is {age}. you are eligible to vote in Peturksbouipo!\")\n",
        "  else:\n",
        "    print(f\"Your age is {age}. you are not eligible to vote in  Peturksbouipo!\")\n",
        "\n",
        "  if age >= Stanlau:\n",
        "    print(f\"Your age is {age}. you are eligible to vote in Stanlau!\")\n",
        "  else:\n",
        "    print(f\"Your age is {age}. you are not eligible to vote in  Stanlau!\")\n",
        "\n",
        "\n",
        "\n",
        "  if age >= Mayengua:\n",
        "    print(f\"Your age is {age}. you are eligible to vote in Mayengua!\")\n",
        "  else:\n",
        "    print(f\"Your age is {age}. you are not eligible to vote in  Mayengua!\")\n",
        "\n",
        "\n",
        "if __name__ == \"__main__\":\n",
        "  main()\n",
        "\n",
        "\n",
        "\n",
        "\n",
        "\n",
        "\n",
        "\n",
        ""
      ],
      "metadata": {
        "colab": {
          "base_uri": "https://localhost:8080/"
        },
        "id": "z_dIqKO6yHSA",
        "outputId": "65fdd99e-d562-4f59-b65a-15100f245800"
      },
      "execution_count": 6,
      "outputs": [
        {
          "output_type": "stream",
          "name": "stdout",
          "text": [
            "02_international_voting_age\n",
            "How old are you?45\n",
            "Your age is 45. you are eligible to vote in Peturksbouipo!\n",
            "Your age is 45. you are eligible to vote in Stanlau!\n",
            "Your age is 45. you are not eligible to vote in  Mayengua!\n"
          ]
        }
      ]
    },
    {
      "cell_type": "code",
      "source": [
        "print(\"03_leap_year\")\n",
        "\n",
        "def leap_year():\n",
        "  year:int = int(input(\"Enter as year.\"))\n",
        "\n",
        "\n",
        "  if year % 4 == 0:\n",
        "    if year % 100 == 0:\n",
        "      if year % 400 == 0:\n",
        "        print(f'{year} is a leap year.')\n",
        "      else:\n",
        "        print(f'{year} is not a leap year.')\n",
        "    else:\n",
        "          print(f'{year} is not a leap')\n",
        "  else:\n",
        "            print(f'{year} is not a leap year.')\n",
        "\n",
        "if __name__ == \"__main__\":\n",
        "  leap_year()"
      ],
      "metadata": {
        "colab": {
          "base_uri": "https://localhost:8080/"
        },
        "id": "2fiA1a_D6wB1",
        "outputId": "969473d3-9d7c-420e-8396-14f64eafeac2"
      },
      "execution_count": 7,
      "outputs": [
        {
          "output_type": "stream",
          "name": "stdout",
          "text": [
            "03_leap_year\n",
            "Enter as year.2035\n",
            "2035 is not a leap year.\n"
          ]
        }
      ]
    },
    {
      "cell_type": "code",
      "source": [
        "print(\"04_tall_enough_to_ride\")\n",
        "\n",
        "min_height:int = 50\n",
        "def main():\n",
        "  user:int = int(input(\"How tall are you?\"))\n",
        "  if user >= min_height:\n",
        "    print(\"You are tall enough to ride\")\n",
        "  else:\n",
        "    print(\"You are not tall enough to ride\")\n",
        "\n",
        "if __name__ == \"__main__\":\n",
        "  main()\n",
        "\n",
        "\n",
        "\n"
      ],
      "metadata": {
        "colab": {
          "base_uri": "https://localhost:8080/"
        },
        "id": "hMqk_OPU8O7X",
        "outputId": "992ed764-b148-4437-eb6a-ec2d80a4bbd7"
      },
      "execution_count": 10,
      "outputs": [
        {
          "output_type": "stream",
          "name": "stdout",
          "text": [
            "04_tall_enough_to_ride\n",
            "How tall are you?55\n",
            "You are tall enough to ride\n"
          ]
        }
      ]
    },
    {
      "cell_type": "code",
      "source": [
        "print(\"05_random_numbers\")\n",
        "\n",
        "import random\n",
        "def main():\n",
        "  for i in range(10):\n",
        "    num:list[int] = random.randint(1,100)\n",
        "    print(num)\n",
        "\n",
        "\n",
        "if __name__ == \"__main__\":\n",
        "  main()\n",
        "\n"
      ],
      "metadata": {
        "colab": {
          "base_uri": "https://localhost:8080/"
        },
        "id": "_WsIxPOj9X5d",
        "outputId": "41f66e2f-39ca-42d0-bd05-09c908c12c5a"
      },
      "execution_count": 11,
      "outputs": [
        {
          "output_type": "stream",
          "name": "stdout",
          "text": [
            "05_random_numbers\n",
            "53\n",
            "81\n",
            "80\n",
            "56\n",
            "16\n",
            "30\n",
            "27\n",
            "82\n",
            "2\n",
            "22\n"
          ]
        }
      ]
    }
  ]
}