{
  "nbformat": 4,
  "nbformat_minor": 0,
  "metadata": {
    "colab": {
      "provenance": [],
      "authorship_tag": "ABX9TyNa30GijevnuoUqty/VACGj",
      "include_colab_link": true
    },
    "kernelspec": {
      "name": "python3",
      "display_name": "Python 3"
    },
    "language_info": {
      "name": "python"
    }
  },
  "cells": [
    {
      "cell_type": "markdown",
      "metadata": {
        "id": "view-in-github",
        "colab_type": "text"
      },
      "source": [
        "<a href=\"https://colab.research.google.com/github/zohaaslam/Assignment4-Pyton-/blob/main/01_expressions.ipynb\" target=\"_parent\"><img src=\"https://colab.research.google.com/assets/colab-badge.svg\" alt=\"Open In Colab\"/></a>"
      ]
    },
    {
      "cell_type": "markdown",
      "source": [
        "# **01_expressions**"
      ],
      "metadata": {
        "id": "DAzDrrz6v3l_"
      }
    },
    {
      "cell_type": "code",
      "source": [
        "import random\n",
        "\n",
        "print(\"01_dicesimulator\")\n",
        "\n",
        "def roll_dice():\n",
        "  die1:int = random.randint(1,6)\n",
        "  die2:int = random.randint(1,6)\n",
        "  total:int = die1 + die2\n",
        "  print(f'Total of two dies: {total}')\n",
        "\n",
        "\n",
        "def main():\n",
        "  die1:int = 10\n",
        "  print(\"die1 in main() start as:\" + str(die1))\n",
        "  roll_dice()\n",
        "  roll_dice()\n",
        "  roll_dice()\n",
        "  print(\"die1 in main() is\" + str(die1))\n",
        "\n",
        "\n",
        "\n",
        "if __name__ == \"__main__\":\n",
        "  main()\n",
        "\n",
        "\n"
      ],
      "metadata": {
        "colab": {
          "base_uri": "https://localhost:8080/"
        },
        "id": "qpbrm3yPv7GX",
        "outputId": "8d23cf05-128d-4af0-8b86-883b37729d69"
      },
      "execution_count": 4,
      "outputs": [
        {
          "output_type": "stream",
          "name": "stdout",
          "text": [
            "01_dicesimulator\n",
            "die1 in main() start as:10\n",
            "Total of two dies: 8\n",
            "Total of two dies: 6\n",
            "Total of two dies: 8\n",
            "die1 in main() is10\n"
          ]
        }
      ]
    },
    {
      "cell_type": "code",
      "source": [
        "print(\"02_e=mc2.md\")\n",
        "\n",
        "def energy():\n",
        "  c:int = 299792458\n",
        "  m:int = float(input(\"Enter kilos of mass:\"))\n",
        "  print(\"e = m*c^2\")\n",
        "  print(\"Mass =\" + str(m) + \"kg\")\n",
        "  print(\"C = \" + str(c) + \"m/s\")\n",
        "  print(\"e =\" + str(m * c ** 2) + \"jules\")\n",
        "\n",
        "if __name__ == \"__main__\":\n",
        "  energy()\n"
      ],
      "metadata": {
        "colab": {
          "base_uri": "https://localhost:8080/"
        },
        "id": "TYIAZbY9ybCf",
        "outputId": "7c2c1707-28c1-489b-f0fc-bf72752982dd"
      },
      "execution_count": 7,
      "outputs": [
        {
          "output_type": "stream",
          "name": "stdout",
          "text": [
            "02_e=mc2.md\n",
            "Enter kilos of mass:60\n",
            "e = m*c^2\n",
            "Mass =60.0kg\n",
            "C = 299792458m/s\n",
            "e =5.392531072420906e+18jules\n"
          ]
        }
      ]
    },
    {
      "cell_type": "code",
      "source": [
        "print(\"03_feet_to_inches\")\n",
        "\n",
        "inch: int = 12\n",
        "\n",
        "def foot():\n",
        "  feet:int = int(input(\"Enter feet and i will converts in to inches.\"))\n",
        "  print(f'There are {inch * feet} inches in {feet} feet.')\n",
        "\n",
        "\n",
        "if __name__ == \"__main__\":\n",
        "  foot()\n"
      ],
      "metadata": {
        "colab": {
          "base_uri": "https://localhost:8080/"
        },
        "id": "2-H4tBH-0c71",
        "outputId": "f21bd78d-3b41-4d08-8fe8-231e9a65001b"
      },
      "execution_count": 8,
      "outputs": [
        {
          "output_type": "stream",
          "name": "stdout",
          "text": [
            "03_feet_to_inches\n",
            "Enter feet and i will converts in to inches.34\n",
            "There are 408 inches in 34 feet.\n"
          ]
        }
      ]
    },
    {
      "cell_type": "code",
      "source": [
        "import math\n",
        "\n",
        "print(\"04_pythagorean_theorem\")\n",
        "\n",
        "def triangle():\n",
        "  ab:float = float(input(\"Enter the length of the side ab\"))\n",
        "  ac:float = float(input(\"Enter the length of the side ac\"))\n",
        "  bc:float = math.sqrt(ab**2 + ac**2)\n",
        "\n",
        "  print(f'The length of the bc (the hypothenuse is ; {bc})')\n",
        "\n",
        "if __name__ == \"__main__\":\n",
        "  triangle()\n",
        "\n"
      ],
      "metadata": {
        "colab": {
          "base_uri": "https://localhost:8080/"
        },
        "id": "I-PsrT8c1pW1",
        "outputId": "ea2c65cf-fd35-470b-8fb3-490bab24d0a0"
      },
      "execution_count": 9,
      "outputs": [
        {
          "output_type": "stream",
          "name": "stdout",
          "text": [
            "04_pythagorean_theorem\n",
            "Enter the length of the side ab4\n",
            "Enter the length of the side ac6.8\n",
            "The length of the bc (the hypothenuse is ; 7.889233169326408)\n"
          ]
        }
      ]
    },
    {
      "cell_type": "code",
      "source": [
        "print(\"05_remainder_division\")\n",
        "\n",
        "def reminder():\n",
        "  num1:int = int(input(\"Enter an integer to be divided: \"))\n",
        "  num2:int = int(input(\"Enter an integer to divided by:\"))\n",
        "  quotient:int = num1 // num2\n",
        "  remainder:int = num1 % num2\n",
        "\n",
        "  print(f'The result of following division is {quotient} with the remainder of {remainder}')\n",
        "\n",
        "if __name__ == \"__main__\":\n",
        "  reminder()\n"
      ],
      "metadata": {
        "colab": {
          "base_uri": "https://localhost:8080/"
        },
        "id": "KZ5DB3Hd2lhh",
        "outputId": "de0a6d89-135e-4e36-f2e8-f89018ae3a80"
      },
      "execution_count": 12,
      "outputs": [
        {
          "output_type": "stream",
          "name": "stdout",
          "text": [
            "05_remainder_division\n",
            "Enter an integer to be divided: 30\n",
            "Enter an integer to divided by:3\n",
            "The result of following division is 10 with the remainder of 0\n"
          ]
        }
      ]
    },
    {
      "cell_type": "code",
      "source": [
        "import random\n",
        "\n",
        "print(\"06_rolldice\")\n",
        "\n",
        "def dice():\n",
        "  die1:int = random.randint(1,6)\n",
        "  die2:int = random.randint(1,6)\n",
        "  total:int = int(die1 + die2)\n",
        "  print(\"First die:\" + str(die1))\n",
        "  print(\"Second die:\" + str(die2))\n",
        "  print(f'Total of two dies : {total}')\n",
        "\n",
        "\n",
        "if __name__ == \"__main__\":\n",
        "  dice()\n"
      ],
      "metadata": {
        "colab": {
          "base_uri": "https://localhost:8080/"
        },
        "id": "2JnMnmNg4dv7",
        "outputId": "a269399b-efe7-428c-fb52-c882b998f33f"
      },
      "execution_count": 14,
      "outputs": [
        {
          "output_type": "stream",
          "name": "stdout",
          "text": [
            "06_seconds_in_year\n",
            "First die:3\n",
            "Second die:1\n",
            "Total of two dies : 4\n"
          ]
        }
      ]
    },
    {
      "cell_type": "code",
      "source": [
        "print(\"06_seconds_in_year\")\n",
        "\n",
        "days_in_year:int = 365\n",
        "hours_per_day:int = 24\n",
        "minutes_per_hours:int = 60\n",
        "seconds_per_minutes:int = 60\n",
        "\n",
        "def seconds():\n",
        "  print(f'There are {days_in_year * hours_per_day * minutes_per_hours *seconds_per_minutes} seconds in a year')\n",
        "\n",
        "\n",
        "if __name__ == \"__main__\":\n",
        "  seconds()\n"
      ],
      "metadata": {
        "colab": {
          "base_uri": "https://localhost:8080/"
        },
        "id": "Nuc_pF0G6fye",
        "outputId": "a57f8d31-62da-4a35-81b2-668ec13b3f02"
      },
      "execution_count": 17,
      "outputs": [
        {
          "output_type": "stream",
          "name": "stdout",
          "text": [
            "06_seconds_in_year\n",
            "There are 31536000 seconds in a year\n"
          ]
        }
      ]
    },
    {
      "cell_type": "code",
      "source": [
        "print(\"07_tiny_mad_lib\")\n",
        "\n",
        "def mad_lib():\n",
        "  noun:str = str(input(\"Enter a noun:\"))\n",
        "  adjective:str = str(input(\"Enter an adjective:\"))\n",
        "  verb:str = str(input(\"Enter a verb:\"))\n",
        "  adverb:str = str(input(\"Enter an adverb:\"))\n",
        "  print(f'Do you {verb} your {adjective} {noun}{adverb}? That\\'s hilarious! ')\n",
        "\n",
        "\n",
        "if __name__ == \"__main__\":\n",
        "  mad_lib()\n"
      ],
      "metadata": {
        "colab": {
          "base_uri": "https://localhost:8080/"
        },
        "id": "mcQw82s37k3U",
        "outputId": "2251e016-a26b-4f46-cd93-c3d1f78b5c26"
      },
      "execution_count": 18,
      "outputs": [
        {
          "output_type": "stream",
          "name": "stdout",
          "text": [
            "07_tiny_mad_lib\n",
            "Enter a noun:name\n",
            "Enter an adjective:fan\n",
            "Enter a verb:eat\n",
            "Enter an adverb:hut\n",
            "Do you eat your fan namehut? That's hilarious! \n"
          ]
        }
      ]
    },
    {
      "cell_type": "code",
      "source": [],
      "metadata": {
        "id": "sonlrHoU3i_l"
      },
      "execution_count": null,
      "outputs": []
    },
    {
      "cell_type": "code",
      "execution_count": null,
      "metadata": {
        "id": "EI-6IqJqvnhO"
      },
      "outputs": [],
      "source": []
    }
  ]
}